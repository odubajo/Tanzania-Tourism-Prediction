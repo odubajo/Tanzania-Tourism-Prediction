{
 "cells": [
  {
   "cell_type": "markdown",
   "id": "abea73d5",
   "metadata": {},
   "source": [
    "# tourism cost Notebook\n",
    "\n",
    "\n",
    "This notebook covers:\n",
    "- Loading the data\n",
    "- Simple EDA and an example of feature enginnering\n",
    "- Data preprocessing\n",
    "- Creating multiple models"
   ]
  },
  {
   "cell_type": "markdown",
   "id": "51691a0a",
   "metadata": {},
   "source": [
    "### Importing libraries"
   ]
  },
  {
   "cell_type": "code",
   "execution_count": 1,
   "id": "51e23814",
   "metadata": {},
   "outputs": [],
   "source": [
    "# dataframe and plotting\n",
    "import pandas as pd\n",
    "import re\n",
    "import numpy as np\n",
    "import seaborn as sns\n",
    "import matplotlib.pyplot as plt\n",
    "\n",
    "# machine learning\n",
    "from sklearn.metrics import accuracy_score, classification_report,plot_confusion_matrix,mean_absolute_error\n",
    "from xgboost import XGBClassifier\n",
    "from sklearn.model_selection import train_test_split,cross_val_score\n",
    "\n",
    "#preprocessing module\n",
    "from sklearn.impute import SimpleImputer\n",
    "from sklearn.pipeline import Pipeline\n",
    "from sklearn.model_selection import train_test_split ,KFold,RandomizedSearchCV,GridSearchCV\n",
    "from imblearn.combine import SMOTEENN\n",
    "from sklearn.preprocessing import LabelEncoder\n",
    "from catboost import CatBoostRegressor\n",
    "from lightgbm import LGBMRegressor\n",
    "from sklearn.ensemble import BaggingRegressor\n",
    "\n",
    "\n",
    "##feature Scaling\n",
    "from sklearn.preprocessing import StandardScaler\n",
    "\n",
    "\n",
    "import warnings\n",
    "warnings.filterwarnings('ignore')"
   ]
  },
  {
   "cell_type": "markdown",
   "id": "7f48b8dd",
   "metadata": {},
   "source": [
    "###  Load the dataset"
   ]
  },
  {
   "cell_type": "code",
   "execution_count": 2,
   "id": "ecd3f192",
   "metadata": {},
   "outputs": [],
   "source": [
    "# Load files into a pandas dataframe\n",
    "train = pd.read_csv('Train.csv')\n",
    "test = pd.read_csv('Test.csv')\n",
    "test = test.rename(columns = lambda x:re.sub('[^A-Za-z0-9_]+', '', x))\n",
    "train = train.rename(columns = lambda x:re.sub('[^A-Za-z0-9_]+', '', x))"
   ]
  },
  {
   "cell_type": "markdown",
   "id": "b11b765d",
   "metadata": {},
   "source": [
    "###  Data Assessing"
   ]
  },
  {
   "cell_type": "code",
   "execution_count": 3,
   "id": "f39fbdac",
   "metadata": {},
   "outputs": [
    {
     "name": "stdout",
     "output_type": "stream",
     "text": [
      "train data shape : (4809, 23)\n",
      "test data shape : (1601, 22)\n"
     ]
    }
   ],
   "source": [
    "# Let’s observe the shape of our datasets.\n",
    "print('train data shape :', train.shape)\n",
    "print('test data shape :', test.shape)"
   ]
  },
  {
   "cell_type": "code",
   "execution_count": 4,
   "id": "e2a5f621",
   "metadata": {},
   "outputs": [
    {
     "data": {
      "text/html": [
       "<div>\n",
       "<style scoped>\n",
       "    .dataframe tbody tr th:only-of-type {\n",
       "        vertical-align: middle;\n",
       "    }\n",
       "\n",
       "    .dataframe tbody tr th {\n",
       "        vertical-align: top;\n",
       "    }\n",
       "\n",
       "    .dataframe thead th {\n",
       "        text-align: right;\n",
       "    }\n",
       "</style>\n",
       "<table border=\"1\" class=\"dataframe\">\n",
       "  <thead>\n",
       "    <tr style=\"text-align: right;\">\n",
       "      <th></th>\n",
       "      <th>ID</th>\n",
       "      <th>country</th>\n",
       "      <th>age_group</th>\n",
       "      <th>travel_with</th>\n",
       "      <th>total_female</th>\n",
       "      <th>total_male</th>\n",
       "      <th>purpose</th>\n",
       "      <th>main_activity</th>\n",
       "      <th>info_source</th>\n",
       "      <th>tour_arrangement</th>\n",
       "      <th>...</th>\n",
       "      <th>package_transport_tz</th>\n",
       "      <th>package_sightseeing</th>\n",
       "      <th>package_guided_tour</th>\n",
       "      <th>package_insurance</th>\n",
       "      <th>night_mainland</th>\n",
       "      <th>night_zanzibar</th>\n",
       "      <th>payment_mode</th>\n",
       "      <th>first_trip_tz</th>\n",
       "      <th>most_impressing</th>\n",
       "      <th>total_cost</th>\n",
       "    </tr>\n",
       "  </thead>\n",
       "  <tbody>\n",
       "    <tr>\n",
       "      <th>0</th>\n",
       "      <td>tour_0</td>\n",
       "      <td>SWIZERLAND</td>\n",
       "      <td>45-64</td>\n",
       "      <td>Friends/Relatives</td>\n",
       "      <td>1.0</td>\n",
       "      <td>1.0</td>\n",
       "      <td>Leisure and Holidays</td>\n",
       "      <td>Wildlife tourism</td>\n",
       "      <td>Friends, relatives</td>\n",
       "      <td>Independent</td>\n",
       "      <td>...</td>\n",
       "      <td>No</td>\n",
       "      <td>No</td>\n",
       "      <td>No</td>\n",
       "      <td>No</td>\n",
       "      <td>13.0</td>\n",
       "      <td>0.0</td>\n",
       "      <td>Cash</td>\n",
       "      <td>No</td>\n",
       "      <td>Friendly People</td>\n",
       "      <td>674602.5</td>\n",
       "    </tr>\n",
       "    <tr>\n",
       "      <th>1</th>\n",
       "      <td>tour_10</td>\n",
       "      <td>UNITED KINGDOM</td>\n",
       "      <td>25-44</td>\n",
       "      <td>NaN</td>\n",
       "      <td>1.0</td>\n",
       "      <td>0.0</td>\n",
       "      <td>Leisure and Holidays</td>\n",
       "      <td>Cultural tourism</td>\n",
       "      <td>others</td>\n",
       "      <td>Independent</td>\n",
       "      <td>...</td>\n",
       "      <td>No</td>\n",
       "      <td>No</td>\n",
       "      <td>No</td>\n",
       "      <td>No</td>\n",
       "      <td>14.0</td>\n",
       "      <td>7.0</td>\n",
       "      <td>Cash</td>\n",
       "      <td>Yes</td>\n",
       "      <td>Wonderful Country, Landscape, Nature</td>\n",
       "      <td>3214906.5</td>\n",
       "    </tr>\n",
       "    <tr>\n",
       "      <th>2</th>\n",
       "      <td>tour_1000</td>\n",
       "      <td>UNITED KINGDOM</td>\n",
       "      <td>25-44</td>\n",
       "      <td>Alone</td>\n",
       "      <td>0.0</td>\n",
       "      <td>1.0</td>\n",
       "      <td>Visiting Friends and Relatives</td>\n",
       "      <td>Cultural tourism</td>\n",
       "      <td>Friends, relatives</td>\n",
       "      <td>Independent</td>\n",
       "      <td>...</td>\n",
       "      <td>No</td>\n",
       "      <td>No</td>\n",
       "      <td>No</td>\n",
       "      <td>No</td>\n",
       "      <td>1.0</td>\n",
       "      <td>31.0</td>\n",
       "      <td>Cash</td>\n",
       "      <td>No</td>\n",
       "      <td>Excellent Experience</td>\n",
       "      <td>3315000.0</td>\n",
       "    </tr>\n",
       "    <tr>\n",
       "      <th>3</th>\n",
       "      <td>tour_1002</td>\n",
       "      <td>UNITED KINGDOM</td>\n",
       "      <td>25-44</td>\n",
       "      <td>Spouse</td>\n",
       "      <td>1.0</td>\n",
       "      <td>1.0</td>\n",
       "      <td>Leisure and Holidays</td>\n",
       "      <td>Wildlife tourism</td>\n",
       "      <td>Travel, agent, tour operator</td>\n",
       "      <td>Package Tour</td>\n",
       "      <td>...</td>\n",
       "      <td>Yes</td>\n",
       "      <td>Yes</td>\n",
       "      <td>Yes</td>\n",
       "      <td>No</td>\n",
       "      <td>11.0</td>\n",
       "      <td>0.0</td>\n",
       "      <td>Cash</td>\n",
       "      <td>Yes</td>\n",
       "      <td>Friendly People</td>\n",
       "      <td>7790250.0</td>\n",
       "    </tr>\n",
       "    <tr>\n",
       "      <th>4</th>\n",
       "      <td>tour_1004</td>\n",
       "      <td>CHINA</td>\n",
       "      <td>1-24</td>\n",
       "      <td>NaN</td>\n",
       "      <td>1.0</td>\n",
       "      <td>0.0</td>\n",
       "      <td>Leisure and Holidays</td>\n",
       "      <td>Wildlife tourism</td>\n",
       "      <td>Travel, agent, tour operator</td>\n",
       "      <td>Independent</td>\n",
       "      <td>...</td>\n",
       "      <td>No</td>\n",
       "      <td>No</td>\n",
       "      <td>No</td>\n",
       "      <td>No</td>\n",
       "      <td>7.0</td>\n",
       "      <td>4.0</td>\n",
       "      <td>Cash</td>\n",
       "      <td>Yes</td>\n",
       "      <td>No comments</td>\n",
       "      <td>1657500.0</td>\n",
       "    </tr>\n",
       "  </tbody>\n",
       "</table>\n",
       "<p>5 rows × 23 columns</p>\n",
       "</div>"
      ],
      "text/plain": [
       "          ID         country age_group        travel_with  total_female  \\\n",
       "0     tour_0      SWIZERLAND     45-64  Friends/Relatives           1.0   \n",
       "1    tour_10  UNITED KINGDOM     25-44                NaN           1.0   \n",
       "2  tour_1000  UNITED KINGDOM     25-44              Alone           0.0   \n",
       "3  tour_1002  UNITED KINGDOM     25-44             Spouse           1.0   \n",
       "4  tour_1004           CHINA      1-24                NaN           1.0   \n",
       "\n",
       "   total_male                         purpose     main_activity  \\\n",
       "0         1.0            Leisure and Holidays  Wildlife tourism   \n",
       "1         0.0            Leisure and Holidays  Cultural tourism   \n",
       "2         1.0  Visiting Friends and Relatives  Cultural tourism   \n",
       "3         1.0            Leisure and Holidays  Wildlife tourism   \n",
       "4         0.0            Leisure and Holidays  Wildlife tourism   \n",
       "\n",
       "                    info_source tour_arrangement  ... package_transport_tz  \\\n",
       "0            Friends, relatives      Independent  ...                   No   \n",
       "1                        others      Independent  ...                   No   \n",
       "2            Friends, relatives      Independent  ...                   No   \n",
       "3  Travel, agent, tour operator     Package Tour  ...                  Yes   \n",
       "4  Travel, agent, tour operator      Independent  ...                   No   \n",
       "\n",
       "  package_sightseeing package_guided_tour package_insurance night_mainland  \\\n",
       "0                  No                  No                No           13.0   \n",
       "1                  No                  No                No           14.0   \n",
       "2                  No                  No                No            1.0   \n",
       "3                 Yes                 Yes                No           11.0   \n",
       "4                  No                  No                No            7.0   \n",
       "\n",
       "  night_zanzibar payment_mode  first_trip_tz  \\\n",
       "0            0.0         Cash             No   \n",
       "1            7.0         Cash            Yes   \n",
       "2           31.0         Cash             No   \n",
       "3            0.0         Cash            Yes   \n",
       "4            4.0         Cash            Yes   \n",
       "\n",
       "                        most_impressing total_cost  \n",
       "0                       Friendly People   674602.5  \n",
       "1  Wonderful Country, Landscape, Nature  3214906.5  \n",
       "2                  Excellent Experience  3315000.0  \n",
       "3                       Friendly People  7790250.0  \n",
       "4                           No comments  1657500.0  \n",
       "\n",
       "[5 rows x 23 columns]"
      ]
     },
     "execution_count": 4,
     "metadata": {},
     "output_type": "execute_result"
    }
   ],
   "source": [
    "# inspect train data\n",
    "train.head()"
   ]
  },
  {
   "cell_type": "code",
   "execution_count": 5,
   "id": "274008c5",
   "metadata": {},
   "outputs": [
    {
     "data": {
      "text/html": [
       "<div>\n",
       "<style scoped>\n",
       "    .dataframe tbody tr th:only-of-type {\n",
       "        vertical-align: middle;\n",
       "    }\n",
       "\n",
       "    .dataframe tbody tr th {\n",
       "        vertical-align: top;\n",
       "    }\n",
       "\n",
       "    .dataframe thead th {\n",
       "        text-align: right;\n",
       "    }\n",
       "</style>\n",
       "<table border=\"1\" class=\"dataframe\">\n",
       "  <thead>\n",
       "    <tr style=\"text-align: right;\">\n",
       "      <th></th>\n",
       "      <th>ID</th>\n",
       "      <th>country</th>\n",
       "      <th>age_group</th>\n",
       "      <th>travel_with</th>\n",
       "      <th>total_female</th>\n",
       "      <th>total_male</th>\n",
       "      <th>purpose</th>\n",
       "      <th>main_activity</th>\n",
       "      <th>info_source</th>\n",
       "      <th>tour_arrangement</th>\n",
       "      <th>...</th>\n",
       "      <th>package_food</th>\n",
       "      <th>package_transport_tz</th>\n",
       "      <th>package_sightseeing</th>\n",
       "      <th>package_guided_tour</th>\n",
       "      <th>package_insurance</th>\n",
       "      <th>night_mainland</th>\n",
       "      <th>night_zanzibar</th>\n",
       "      <th>payment_mode</th>\n",
       "      <th>first_trip_tz</th>\n",
       "      <th>most_impressing</th>\n",
       "    </tr>\n",
       "  </thead>\n",
       "  <tbody>\n",
       "    <tr>\n",
       "      <th>0</th>\n",
       "      <td>tour_1</td>\n",
       "      <td>AUSTRALIA</td>\n",
       "      <td>45-64</td>\n",
       "      <td>Spouse</td>\n",
       "      <td>1.0</td>\n",
       "      <td>1.0</td>\n",
       "      <td>Leisure and Holidays</td>\n",
       "      <td>Wildlife tourism</td>\n",
       "      <td>Travel, agent, tour operator</td>\n",
       "      <td>Package Tour</td>\n",
       "      <td>...</td>\n",
       "      <td>Yes</td>\n",
       "      <td>Yes</td>\n",
       "      <td>Yes</td>\n",
       "      <td>Yes</td>\n",
       "      <td>Yes</td>\n",
       "      <td>10</td>\n",
       "      <td>3</td>\n",
       "      <td>Cash</td>\n",
       "      <td>Yes</td>\n",
       "      <td>Wildlife</td>\n",
       "    </tr>\n",
       "    <tr>\n",
       "      <th>1</th>\n",
       "      <td>tour_100</td>\n",
       "      <td>SOUTH AFRICA</td>\n",
       "      <td>25-44</td>\n",
       "      <td>Friends/Relatives</td>\n",
       "      <td>0.0</td>\n",
       "      <td>4.0</td>\n",
       "      <td>Business</td>\n",
       "      <td>Wildlife tourism</td>\n",
       "      <td>Tanzania Mission Abroad</td>\n",
       "      <td>Package Tour</td>\n",
       "      <td>...</td>\n",
       "      <td>No</td>\n",
       "      <td>No</td>\n",
       "      <td>No</td>\n",
       "      <td>No</td>\n",
       "      <td>No</td>\n",
       "      <td>13</td>\n",
       "      <td>0</td>\n",
       "      <td>Cash</td>\n",
       "      <td>No</td>\n",
       "      <td>Wonderful Country, Landscape, Nature</td>\n",
       "    </tr>\n",
       "    <tr>\n",
       "      <th>2</th>\n",
       "      <td>tour_1001</td>\n",
       "      <td>GERMANY</td>\n",
       "      <td>25-44</td>\n",
       "      <td>Friends/Relatives</td>\n",
       "      <td>3.0</td>\n",
       "      <td>0.0</td>\n",
       "      <td>Leisure and Holidays</td>\n",
       "      <td>Beach tourism</td>\n",
       "      <td>Friends, relatives</td>\n",
       "      <td>Independent</td>\n",
       "      <td>...</td>\n",
       "      <td>No</td>\n",
       "      <td>No</td>\n",
       "      <td>No</td>\n",
       "      <td>No</td>\n",
       "      <td>No</td>\n",
       "      <td>7</td>\n",
       "      <td>14</td>\n",
       "      <td>Cash</td>\n",
       "      <td>No</td>\n",
       "      <td>No comments</td>\n",
       "    </tr>\n",
       "    <tr>\n",
       "      <th>3</th>\n",
       "      <td>tour_1006</td>\n",
       "      <td>CANADA</td>\n",
       "      <td>24-Jan</td>\n",
       "      <td>Friends/Relatives</td>\n",
       "      <td>2.0</td>\n",
       "      <td>0.0</td>\n",
       "      <td>Leisure and Holidays</td>\n",
       "      <td>Cultural tourism</td>\n",
       "      <td>others</td>\n",
       "      <td>Independent</td>\n",
       "      <td>...</td>\n",
       "      <td>No</td>\n",
       "      <td>No</td>\n",
       "      <td>No</td>\n",
       "      <td>No</td>\n",
       "      <td>No</td>\n",
       "      <td>0</td>\n",
       "      <td>4</td>\n",
       "      <td>Cash</td>\n",
       "      <td>Yes</td>\n",
       "      <td>Friendly People</td>\n",
       "    </tr>\n",
       "    <tr>\n",
       "      <th>4</th>\n",
       "      <td>tour_1009</td>\n",
       "      <td>UNITED KINGDOM</td>\n",
       "      <td>45-64</td>\n",
       "      <td>Friends/Relatives</td>\n",
       "      <td>2.0</td>\n",
       "      <td>2.0</td>\n",
       "      <td>Leisure and Holidays</td>\n",
       "      <td>Wildlife tourism</td>\n",
       "      <td>Friends, relatives</td>\n",
       "      <td>Package Tour</td>\n",
       "      <td>...</td>\n",
       "      <td>Yes</td>\n",
       "      <td>Yes</td>\n",
       "      <td>No</td>\n",
       "      <td>No</td>\n",
       "      <td>No</td>\n",
       "      <td>10</td>\n",
       "      <td>0</td>\n",
       "      <td>Cash</td>\n",
       "      <td>Yes</td>\n",
       "      <td>Friendly People</td>\n",
       "    </tr>\n",
       "  </tbody>\n",
       "</table>\n",
       "<p>5 rows × 22 columns</p>\n",
       "</div>"
      ],
      "text/plain": [
       "          ID         country age_group        travel_with  total_female  \\\n",
       "0     tour_1       AUSTRALIA     45-64             Spouse           1.0   \n",
       "1   tour_100    SOUTH AFRICA     25-44  Friends/Relatives           0.0   \n",
       "2  tour_1001         GERMANY     25-44  Friends/Relatives           3.0   \n",
       "3  tour_1006          CANADA    24-Jan  Friends/Relatives           2.0   \n",
       "4  tour_1009  UNITED KINGDOM     45-64  Friends/Relatives           2.0   \n",
       "\n",
       "   total_male               purpose     main_activity  \\\n",
       "0         1.0  Leisure and Holidays  Wildlife tourism   \n",
       "1         4.0              Business  Wildlife tourism   \n",
       "2         0.0  Leisure and Holidays     Beach tourism   \n",
       "3         0.0  Leisure and Holidays  Cultural tourism   \n",
       "4         2.0  Leisure and Holidays  Wildlife tourism   \n",
       "\n",
       "                    info_source tour_arrangement  ... package_food  \\\n",
       "0  Travel, agent, tour operator     Package Tour  ...          Yes   \n",
       "1       Tanzania Mission Abroad     Package Tour  ...           No   \n",
       "2            Friends, relatives      Independent  ...           No   \n",
       "3                        others      Independent  ...           No   \n",
       "4            Friends, relatives     Package Tour  ...          Yes   \n",
       "\n",
       "  package_transport_tz package_sightseeing package_guided_tour  \\\n",
       "0                  Yes                 Yes                 Yes   \n",
       "1                   No                  No                  No   \n",
       "2                   No                  No                  No   \n",
       "3                   No                  No                  No   \n",
       "4                  Yes                  No                  No   \n",
       "\n",
       "  package_insurance night_mainland night_zanzibar  payment_mode  \\\n",
       "0               Yes             10              3          Cash   \n",
       "1                No             13              0          Cash   \n",
       "2                No              7             14          Cash   \n",
       "3                No              0              4          Cash   \n",
       "4                No             10              0          Cash   \n",
       "\n",
       "   first_trip_tz                       most_impressing  \n",
       "0            Yes                              Wildlife  \n",
       "1             No  Wonderful Country, Landscape, Nature  \n",
       "2             No                           No comments  \n",
       "3            Yes                       Friendly People  \n",
       "4            Yes                       Friendly People  \n",
       "\n",
       "[5 rows x 22 columns]"
      ]
     },
     "execution_count": 5,
     "metadata": {},
     "output_type": "execute_result"
    }
   ],
   "source": [
    "# inspect test data\n",
    "test.head()"
   ]
  },
  {
   "cell_type": "code",
   "execution_count": 6,
   "id": "4c7f4c2b",
   "metadata": {},
   "outputs": [
    {
     "name": "stdout",
     "output_type": "stream",
     "text": [
      "<class 'pandas.core.frame.DataFrame'>\n",
      "RangeIndex: 4809 entries, 0 to 4808\n",
      "Data columns (total 23 columns):\n",
      " #   Column                 Non-Null Count  Dtype  \n",
      "---  ------                 --------------  -----  \n",
      " 0   ID                     4809 non-null   object \n",
      " 1   country                4809 non-null   object \n",
      " 2   age_group              4809 non-null   object \n",
      " 3   travel_with            3695 non-null   object \n",
      " 4   total_female           4806 non-null   float64\n",
      " 5   total_male             4804 non-null   float64\n",
      " 6   purpose                4809 non-null   object \n",
      " 7   main_activity          4809 non-null   object \n",
      " 8   info_source            4809 non-null   object \n",
      " 9   tour_arrangement       4809 non-null   object \n",
      " 10  package_transport_int  4809 non-null   object \n",
      " 11  package_accomodation   4809 non-null   object \n",
      " 12  package_food           4809 non-null   object \n",
      " 13  package_transport_tz   4809 non-null   object \n",
      " 14  package_sightseeing    4809 non-null   object \n",
      " 15  package_guided_tour    4809 non-null   object \n",
      " 16  package_insurance      4809 non-null   object \n",
      " 17  night_mainland         4809 non-null   float64\n",
      " 18  night_zanzibar         4809 non-null   float64\n",
      " 19  payment_mode           4809 non-null   object \n",
      " 20  first_trip_tz          4809 non-null   object \n",
      " 21  most_impressing        4496 non-null   object \n",
      " 22  total_cost             4809 non-null   float64\n",
      "dtypes: float64(5), object(18)\n",
      "memory usage: 864.2+ KB\n"
     ]
    }
   ],
   "source": [
    "# inspect data\n",
    "train.info()"
   ]
  },
  {
   "cell_type": "code",
   "execution_count": 7,
   "id": "9cb93f53",
   "metadata": {},
   "outputs": [
    {
     "name": "stdout",
     "output_type": "stream",
     "text": [
      "<class 'pandas.core.frame.DataFrame'>\n",
      "RangeIndex: 1601 entries, 0 to 1600\n",
      "Data columns (total 22 columns):\n",
      " #   Column                 Non-Null Count  Dtype  \n",
      "---  ------                 --------------  -----  \n",
      " 0   ID                     1601 non-null   object \n",
      " 1   country                1601 non-null   object \n",
      " 2   age_group              1601 non-null   object \n",
      " 3   travel_with            1274 non-null   object \n",
      " 4   total_female           1600 non-null   float64\n",
      " 5   total_male             1599 non-null   float64\n",
      " 6   purpose                1601 non-null   object \n",
      " 7   main_activity          1601 non-null   object \n",
      " 8   info_source            1601 non-null   object \n",
      " 9   tour_arrangement       1601 non-null   object \n",
      " 10  package_transport_int  1601 non-null   object \n",
      " 11  package_accomodation   1601 non-null   object \n",
      " 12  package_food           1601 non-null   object \n",
      " 13  package_transport_tz   1601 non-null   object \n",
      " 14  package_sightseeing    1601 non-null   object \n",
      " 15  package_guided_tour    1601 non-null   object \n",
      " 16  package_insurance      1601 non-null   object \n",
      " 17  night_mainland         1601 non-null   int64  \n",
      " 18  night_zanzibar         1601 non-null   int64  \n",
      " 19  payment_mode           1601 non-null   object \n",
      " 20  first_trip_tz          1601 non-null   object \n",
      " 21  most_impressing        1490 non-null   object \n",
      "dtypes: float64(2), int64(2), object(18)\n",
      "memory usage: 275.3+ KB\n"
     ]
    }
   ],
   "source": [
    "test.info()"
   ]
  },
  {
   "cell_type": "code",
   "execution_count": 8,
   "id": "9d07717d",
   "metadata": {},
   "outputs": [
    {
     "data": {
      "image/png": "[encoded data removed]",
      "text/plain": [
       "<Figure size 1440x504 with 2 Axes>"
      ]
     },
     "metadata": {
      "needs_background": "light"
     },
     "output_type": "display_data"
    }
   ],
   "source": [
    "#check missing values in train data\n",
    "fig, ax = plt.subplots(figsize = (20,7))\n",
    "ax = sns.heatmap(train.isnull(), vmin=0, vmax = 1)"
   ]
  },
  {
   "cell_type": "code",
   "execution_count": 9,
   "id": "7f0cbcc7",
   "metadata": {},
   "outputs": [
    {
     "data": {
      "image/png": "[encoded data removed]",
      "text/plain": [
       "<Figure size 1440x504 with 2 Axes>"
      ]
     },
     "metadata": {
      "needs_background": "light"
     },
     "output_type": "display_data"
    }
   ],
   "source": [
    "#check missing values in test data\n",
    "fig, ax = plt.subplots(figsize = (20,7))\n",
    "ax = sns.heatmap(test.isnull(), vmin=0, vmax = 1)"
   ]
  },
  {
   "cell_type": "markdown",
   "id": "f4b9aaf4",
   "metadata": {},
   "source": [
    "- there seems to be missing data in both train ad test dataset"
   ]
  },
  {
   "cell_type": "markdown",
   "id": "10baa3e2",
   "metadata": {},
   "source": [
    "##  Data Cleaning"
   ]
  },
  {
   "cell_type": "code",
   "execution_count": 10,
   "id": "dca0510c",
   "metadata": {
    "scrolled": true
   },
   "outputs": [
    {
     "data": {
      "text/html": [
       "<div>\n",
       "<style scoped>\n",
       "    .dataframe tbody tr th:only-of-type {\n",
       "        vertical-align: middle;\n",
       "    }\n",
       "\n",
       "    .dataframe tbody tr th {\n",
       "        vertical-align: top;\n",
       "    }\n",
       "\n",
       "    .dataframe thead th {\n",
       "        text-align: right;\n",
       "    }\n",
       "</style>\n",
       "<table border=\"1\" class=\"dataframe\">\n",
       "  <thead>\n",
       "    <tr style=\"text-align: right;\">\n",
       "      <th></th>\n",
       "      <th>total_female</th>\n",
       "      <th>total_male</th>\n",
       "      <th>night_mainland</th>\n",
       "      <th>night_zanzibar</th>\n",
       "      <th>total_cost</th>\n",
       "    </tr>\n",
       "  </thead>\n",
       "  <tbody>\n",
       "    <tr>\n",
       "      <th>count</th>\n",
       "      <td>4806.000000</td>\n",
       "      <td>4804.000000</td>\n",
       "      <td>4809.000000</td>\n",
       "      <td>4809.000000</td>\n",
       "      <td>4.809000e+03</td>\n",
       "    </tr>\n",
       "    <tr>\n",
       "      <th>mean</th>\n",
       "      <td>0.926758</td>\n",
       "      <td>1.009575</td>\n",
       "      <td>8.488043</td>\n",
       "      <td>2.304429</td>\n",
       "      <td>8.114389e+06</td>\n",
       "    </tr>\n",
       "    <tr>\n",
       "      <th>std</th>\n",
       "      <td>1.288242</td>\n",
       "      <td>1.138865</td>\n",
       "      <td>10.427624</td>\n",
       "      <td>4.227080</td>\n",
       "      <td>1.222490e+07</td>\n",
       "    </tr>\n",
       "    <tr>\n",
       "      <th>min</th>\n",
       "      <td>0.000000</td>\n",
       "      <td>0.000000</td>\n",
       "      <td>0.000000</td>\n",
       "      <td>0.000000</td>\n",
       "      <td>4.900000e+04</td>\n",
       "    </tr>\n",
       "    <tr>\n",
       "      <th>25%</th>\n",
       "      <td>0.000000</td>\n",
       "      <td>1.000000</td>\n",
       "      <td>3.000000</td>\n",
       "      <td>0.000000</td>\n",
       "      <td>8.121750e+05</td>\n",
       "    </tr>\n",
       "    <tr>\n",
       "      <th>50%</th>\n",
       "      <td>1.000000</td>\n",
       "      <td>1.000000</td>\n",
       "      <td>6.000000</td>\n",
       "      <td>0.000000</td>\n",
       "      <td>3.397875e+06</td>\n",
       "    </tr>\n",
       "    <tr>\n",
       "      <th>75%</th>\n",
       "      <td>1.000000</td>\n",
       "      <td>1.000000</td>\n",
       "      <td>11.000000</td>\n",
       "      <td>4.000000</td>\n",
       "      <td>9.945000e+06</td>\n",
       "    </tr>\n",
       "    <tr>\n",
       "      <th>max</th>\n",
       "      <td>49.000000</td>\n",
       "      <td>44.000000</td>\n",
       "      <td>145.000000</td>\n",
       "      <td>61.000000</td>\n",
       "      <td>9.953288e+07</td>\n",
       "    </tr>\n",
       "  </tbody>\n",
       "</table>\n",
       "</div>"
      ],
      "text/plain": [
       "       total_female   total_male  night_mainland  night_zanzibar    total_cost\n",
       "count   4806.000000  4804.000000     4809.000000     4809.000000  4.809000e+03\n",
       "mean       0.926758     1.009575        8.488043        2.304429  8.114389e+06\n",
       "std        1.288242     1.138865       10.427624        4.227080  1.222490e+07\n",
       "min        0.000000     0.000000        0.000000        0.000000  4.900000e+04\n",
       "25%        0.000000     1.000000        3.000000        0.000000  8.121750e+05\n",
       "50%        1.000000     1.000000        6.000000        0.000000  3.397875e+06\n",
       "75%        1.000000     1.000000       11.000000        4.000000  9.945000e+06\n",
       "max       49.000000    44.000000      145.000000       61.000000  9.953288e+07"
      ]
     },
     "execution_count": 10,
     "metadata": {},
     "output_type": "execute_result"
    }
   ],
   "source": [
    "train.describe()"
   ]
  },
  {
   "cell_type": "code",
   "execution_count": 11,
   "id": "44c5b2be",
   "metadata": {},
   "outputs": [],
   "source": [
    "# filling missing values in train data with thier mean value\n",
    "\n",
    "train.total_female.fillna(train.total_female.mean(),inplace = True)\n",
    "train.total_male.fillna(train.total_male.mean(),inplace = True)"
   ]
  },
  {
   "cell_type": "code",
   "execution_count": 12,
   "id": "9c1b74f5",
   "metadata": {},
   "outputs": [],
   "source": [
    "# filling missing values in test data with thier mean value\n",
    "\n",
    "test.total_female.fillna(test.total_female.mean(),inplace = True)\n",
    "test.total_male.fillna(test.total_male.mean(),inplace = True)"
   ]
  },
  {
   "cell_type": "code",
   "execution_count": 13,
   "id": "68b9bacb",
   "metadata": {},
   "outputs": [],
   "source": [
    "# For the travel_with and most_impressing columns, fill in with another category, None\n",
    "train.travel_with.fillna('None',inplace=True)\n",
    "train.most_impressing.fillna('None',inplace=True)\n",
    "\n",
    "test.travel_with.fillna('None',inplace=True)\n",
    "test.most_impressing.fillna('None',inplace=True)"
   ]
  },
  {
   "cell_type": "markdown",
   "id": "2b22d100",
   "metadata": {},
   "source": [
    "##  Feature Engineering "
   ]
  },
  {
   "cell_type": "code",
   "execution_count": 14,
   "id": "43616268",
   "metadata": {},
   "outputs": [
    {
     "name": "stdout",
     "output_type": "stream",
     "text": [
      "Feature 'ID' has '4809' unique values\n",
      "Feature 'country' has '105' unique values\n",
      "Feature 'age_group' has '4' unique values\n",
      "Feature 'travel_with' has '6' unique values\n",
      "Feature 'total_female' has '15' unique values\n",
      "Feature 'total_male' has '15' unique values\n",
      "Feature 'purpose' has '7' unique values\n",
      "Feature 'main_activity' has '9' unique values\n",
      "Feature 'info_source' has '8' unique values\n",
      "Feature 'tour_arrangement' has '2' unique values\n",
      "Feature 'package_transport_int' has '2' unique values\n",
      "Feature 'package_accomodation' has '2' unique values\n",
      "Feature 'package_food' has '2' unique values\n",
      "Feature 'package_transport_tz' has '2' unique values\n",
      "Feature 'package_sightseeing' has '2' unique values\n",
      "Feature 'package_guided_tour' has '2' unique values\n",
      "Feature 'package_insurance' has '2' unique values\n",
      "Feature 'night_mainland' has '64' unique values\n",
      "Feature 'night_zanzibar' has '34' unique values\n",
      "Feature 'payment_mode' has '4' unique values\n",
      "Feature 'first_trip_tz' has '2' unique values\n",
      "Feature 'most_impressing' has '8' unique values\n",
      "Feature 'total_cost' has '1637' unique values\n"
     ]
    }
   ],
   "source": [
    "#check for no of unique columns\n",
    "\n",
    "for name in train.columns:\n",
    "    unique_values = train[name].nunique()\n",
    "    print(f\"Feature '{name}' has '{unique_values}' unique values\")"
   ]
  },
  {
   "cell_type": "code",
   "execution_count": 15,
   "id": "504f8872",
   "metadata": {},
   "outputs": [],
   "source": [
    "le = LabelEncoder()\n",
    "\n",
    "# function to preprocess our data from train models\n",
    "def preprocess_data(data):\n",
    "\n",
    "    \n",
    "    # categorical features to be onverted to One Hot Encoding\n",
    "    categ = ['tour_arrangement','travel_with','purpose','main_activity',\n",
    "             'info_source','most_impressing','payment_mode']\n",
    "    \n",
    "    # One Hot Encoding conversion\n",
    "    data = pd.get_dummies(data, prefix_sep=\"_\", columns=categ,drop_first=True)\n",
    "\n",
    "    \n",
    "\n",
    "    #Encoding categorical Data\n",
    "    data['age_group'] = le.fit_transform(data['age_group'])\n",
    "    data['package_transport_int'] = le.fit_transform(data['package_transport_int'])\n",
    "    data['package_accomodation'] = le.fit_transform(data['package_accomodation'])\n",
    "    data['package_food'] = le.fit_transform(data['package_food'])\n",
    "    data['package_transport_tz'] = le.fit_transform(data['package_transport_tz'])\n",
    "    data['package_sightseeing'] = le.fit_transform(data['package_sightseeing'])\n",
    "    data['package_guided_tour'] = le.fit_transform(data['package_guided_tour'])\n",
    "    data['package_insurance'] = le.fit_transform(data['package_insurance'])\n",
    "    data['first_trip_tz'] = le.fit_transform(data['first_trip_tz'])\n",
    "    data['country'] = le.fit_transform(data['country'])\n",
    "    \n",
    "    # drop uniquid column\n",
    "    data = data.drop([\"ID\"], axis=1)\n",
    "    \n",
    "    # scale our data into range of 0 and 1\n",
    "    scaler = StandardScaler()\n",
    "    data = scaler.fit_transform(data)\n",
    "    \n",
    "    \n",
    "    return data "
   ]
  },
  {
   "cell_type": "code",
   "execution_count": 16,
   "id": "83367453",
   "metadata": {},
   "outputs": [],
   "source": [
    "#Separate training features from target\n",
    "X_train  = train.drop(columns=[ 'total_cost'])\n",
    "y_train  = train['total_cost']"
   ]
  },
  {
   "cell_type": "code",
   "execution_count": 17,
   "id": "737e6878",
   "metadata": {},
   "outputs": [],
   "source": [
    "# preprocess the data \n",
    "processed_train = preprocess_data(X_train)\n",
    "processed_test = preprocess_data(test)"
   ]
  },
  {
   "cell_type": "code",
   "execution_count": 18,
   "id": "76ad0a17",
   "metadata": {},
   "outputs": [],
   "source": [
    "# Split train_data\n",
    "from sklearn.model_selection import train_test_split\n",
    "\n",
    "X_Train, X_Val, y_Train, y_val = train_test_split(processed_train, y_train, \n",
    "                                                  test_size = 0.1, random_state=42)"
   ]
  },
  {
   "cell_type": "markdown",
   "id": "58806060",
   "metadata": {},
   "source": [
    "## model building using CATBoost"
   ]
  },
  {
   "cell_type": "code",
   "execution_count": 19,
   "id": "6e66f362",
   "metadata": {},
   "outputs": [],
   "source": [
    "cat_model=CatBoostRegressor()"
   ]
  },
  {
   "cell_type": "code",
   "execution_count": 20,
   "id": "b129272b",
   "metadata": {},
   "outputs": [],
   "source": [
    "# Optimize model parameters\n",
    "param_grid2 = {'learning_rate':[0.1,0.05],\n",
    "        'n_estimators':[800,600,500],\n",
    "        'od_wait':[50],\n",
    "        'reg_lambda':[3],\n",
    "        'subsample': [0.6, 0.8, 1.0],\n",
    "        'max_depth': [3, 4, 5]\n",
    "        }\n",
    "model = GridSearchCV(cat_model, param_grid2,n_jobs=-1,verbose=2)"
   ]
  },
  {
   "cell_type": "code",
   "execution_count": null,
   "id": "8e0f5088",
   "metadata": {},
   "outputs": [
    {
     "name": "stdout",
     "output_type": "stream",
     "text": [
      "Fitting 5 folds for each of 54 candidates, totalling 270 fits\n"
     ]
    }
   ],
   "source": [
    "kf = KFold(5,shuffle=True,random_state=101)\n",
    "cross_val_score(model,X_Train,y_Train,cv=kf,scoring='neg_mean_absolute_error')"
   ]
  },
  {
   "cell_type": "code",
   "execution_count": null,
   "id": "6fba34d3",
   "metadata": {},
   "outputs": [],
   "source": [
    "model.fit(X_Train,y_Train)\n",
    "print(model.best_params_)"
   ]
  },
  {
   "cell_type": "code",
   "execution_count": null,
   "id": "23a79729",
   "metadata": {},
   "outputs": [],
   "source": [
    "# Get the predicted result for the test Data\n",
    "\n",
    "y_pred = model.predict(X_Val) "
   ]
  },
  {
   "cell_type": "code",
   "execution_count": null,
   "id": "694dc342",
   "metadata": {},
   "outputs": [],
   "source": [
    "print(\"Error rate of catboost regressor: \", mean_absolute_error(y_val,y_pred))"
   ]
  },
  {
   "cell_type": "markdown",
   "id": "fba2c136",
   "metadata": {},
   "source": [
    "## model building using LGBM"
   ]
  },
  {
   "cell_type": "code",
   "execution_count": null,
   "id": "dbe47f7b",
   "metadata": {},
   "outputs": [],
   "source": [
    "# Optimize model parameters\n",
    "param_grid = {'num_leaves':[5,10],\n",
    "        'n_estimators':[50,80,100],\n",
    "        'feature_fraction':[0.4,0.45,0.43],\n",
    "        'reg_lambda':[0.5,0.6,0.4],\n",
    "        'subsample': [0.6, 0.7],\n",
    "        'max_depth': [3, 5,7 ]\n",
    "        }"
   ]
  },
  {
   "cell_type": "code",
   "execution_count": null,
   "id": "6770a657",
   "metadata": {},
   "outputs": [],
   "source": [
    "lgbm = LGBMRegressor()\n"
   ]
  },
  {
   "cell_type": "code",
   "execution_count": null,
   "id": "0afb5f84",
   "metadata": {},
   "outputs": [],
   "source": [
    "model2 = GridSearchCV(lgbm, param_grid,cv=5,n_jobs=-1,verbose=2)"
   ]
  },
  {
   "cell_type": "code",
   "execution_count": null,
   "id": "ad44ffad",
   "metadata": {},
   "outputs": [],
   "source": [
    "kf = KFold(5,shuffle=True,random_state=101)\n",
    "cross_val_score(model2,X_Train,y_Train,cv=kf,scoring='neg_mean_absolute_error')"
   ]
  },
  {
   "cell_type": "code",
   "execution_count": null,
   "id": "80a86bbf",
   "metadata": {},
   "outputs": [],
   "source": [
    "model2.fit(X_Train,y_Train)\n",
    "print(model.best_params_)"
   ]
  },
  {
   "cell_type": "code",
   "execution_count": null,
   "id": "361f47df",
   "metadata": {},
   "outputs": [],
   "source": [
    "pred = model2.predict(X_Val) "
   ]
  },
  {
   "cell_type": "markdown",
   "id": "69eff27f",
   "metadata": {},
   "source": [
    "## model evaluation"
   ]
  },
  {
   "cell_type": "code",
   "execution_count": null,
   "id": "ceca875e",
   "metadata": {},
   "outputs": [],
   "source": [
    "print(\"Error rate of lgbm regressor: \", mean_absolute_error(y_val, pred))"
   ]
  },
  {
   "cell_type": "markdown",
   "id": "74bb3d04",
   "metadata": {},
   "source": [
    "## model bagging"
   ]
  },
  {
   "cell_type": "code",
   "execution_count": null,
   "id": "65252362",
   "metadata": {},
   "outputs": [],
   "source": [
    "bag_reg = BaggingRegressor(model, n_estimators=50, max_samples=3000, bootstrap=True, n_jobs=-1, random_state=0)"
   ]
  },
  {
   "cell_type": "code",
   "execution_count": null,
   "id": "d2d4cc5c",
   "metadata": {},
   "outputs": [],
   "source": [
    "kf = KFold(5,shuffle=True,random_state=101)\n",
    "cross_val_score(bag_reg,X_Train,y_Train,cv=kf,scoring='neg_mean_absolute_error')"
   ]
  },
  {
   "cell_type": "code",
   "execution_count": null,
   "id": "694f37fa",
   "metadata": {},
   "outputs": [],
   "source": [
    "bag_reg.fit(X_Train,y_Train)"
   ]
  },
  {
   "cell_type": "code",
   "execution_count": null,
   "id": "d4addab3",
   "metadata": {},
   "outputs": [],
   "source": [
    "y_pred2 = bag_reg.predict(X_Val)\n",
    "print(\"Error rate of baggng regressor: \", mean_absolute_error(y_val, y_pred2))"
   ]
  },
  {
   "cell_type": "code",
   "execution_count": null,
   "id": "1319f338",
   "metadata": {},
   "outputs": [],
   "source": [
    "p3 = bag_reg.predict(processed_test)"
   ]
  },
  {
   "cell_type": "code",
   "execution_count": null,
   "id": "c7b71f6f",
   "metadata": {},
   "outputs": [],
   "source": []
  }
 ],
 "metadata": {
  "kernelspec": {
   "display_name": "Python 3 (ipykernel)",
   "language": "python",
   "name": "python3"
  },
  "language_info": {
   "codemirror_mode": {
    "name": "ipython",
    "version": 3
   },
   "file_extension": ".py",
   "mimetype": "text/x-python",
   "name": "python",
   "nbconvert_exporter": "python",
   "pygments_lexer": "ipython3",
   "version": "3.9.7"
  }
 },
 "nbformat": 4,
 "nbformat_minor": 5
}
